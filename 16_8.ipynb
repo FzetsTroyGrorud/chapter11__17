{
 "cells": [
  {
   "cell_type": "code",
   "execution_count": 18,
   "metadata": {},
   "outputs": [
    {
     "name": "stdout",
     "output_type": "stream",
     "text": [
      "This book The Weirdstone of Brisingamen is a great book\n",
      "This book Perdido Street Station is a great book\n",
      "This book Thud! is a great book\n",
      "This book The Spellman Files is a great book\n",
      "This book Small Gods is a great book\n"
     ]
    }
   ],
   "source": [
    "import sqlite3\n",
    "#making datbase\n",
    "conn= sqlite3.connect(\"books.db\")\n",
    "#making cursor\n",
    "c= conn.cursor()\n",
    "c.execute(\"SELECT * FROM allbooks\")\n",
    "\n",
    "item=c.fetchmany(0)\n",
    "for items in item:\n",
    "    print(f\"This book {items[0]} is a great book\")\n",
    "\n",
    "\n",
    "conn.commit()\n",
    "\n",
    "conn.close()\n"
   ]
  }
 ],
 "metadata": {
  "kernelspec": {
   "display_name": "Python 3",
   "language": "python",
   "name": "python3"
  },
  "language_info": {
   "codemirror_mode": {
    "name": "ipython",
    "version": 3
   },
   "file_extension": ".py",
   "mimetype": "text/x-python",
   "name": "python",
   "nbconvert_exporter": "python",
   "pygments_lexer": "ipython3",
   "version": "3.11.6"
  }
 },
 "nbformat": 4,
 "nbformat_minor": 2
}
